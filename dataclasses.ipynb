{
 "cells": [
  {
   "cell_type": "code",
   "execution_count": 3,
   "metadata": {},
   "outputs": [],
   "source": [
    "import requests\n",
    "import json\n",
    "import cv2\n",
    "from dataclasses import dataclass\n",
    "\n",
    "\n",
    "@dataclass\n",
    "class Pokemon:\n",
    "    name: str\n",
    "    hp: int\n",
    "    attack: int\n",
    "    defense: int\n",
    "    special_attack: int\n",
    "    special_defense: int\n",
    "    speed: int\n",
    "    type1: str\n",
    "    type2: str\n",
    "    weight: int\n",
    "    sprite: str\n",
    "\n",
    "@dataclass\n",
    "class Item:\n",
    "    name: str\n",
    "    text_desc: str\n",
    "    sprite: str\n",
    "\n",
    "@dataclass\n",
    "class Move:\n",
    "    name: str\n",
    "    accuracy: int\n",
    "    type: str\n",
    "    power: int\n",
    "    pp: int\n",
    "\n",
    "@dataclass\n",
    "class Type:\n",
    "    name: str\n",
    "    weakness: str\n",
    "    strengths: str\n",
    "\n",
    "\n"
   ]
  },
  {
   "cell_type": "code",
   "execution_count": 12,
   "metadata": {},
   "outputs": [
    {
     "name": "stdout",
     "output_type": "stream",
     "text": [
      "\n",
      " {'count': 1118, 'next': 'https://pokeapi.co/api/v2/pokemon?offset=20&limit=20', 'previous': None, 'results': [{'name': 'bulbasaur', 'url': 'https://pokeapi.co/api/v2/pokemon/1/'}, {'name': 'ivysaur', 'url': 'https://pokeapi.co/api/v2/pokemon/2/'}, {'name': 'venusaur', 'url': 'https://pokeapi.co/api/v2/pokemon/3/'}, {'name': 'charmander', 'url': 'https://pokeapi.co/api/v2/pokemon/4/'}, {'name': 'charmeleon', 'url': 'https://pokeapi.co/api/v2/pokemon/5/'}, {'name': 'charizard', 'url': 'https://pokeapi.co/api/v2/pokemon/6/'}, {'name': 'squirtle', 'url': 'https://pokeapi.co/api/v2/pokemon/7/'}, {'name': 'wartortle', 'url': 'https://pokeapi.co/api/v2/pokemon/8/'}, {'name': 'blastoise', 'url': 'https://pokeapi.co/api/v2/pokemon/9/'}, {'name': 'caterpie', 'url': 'https://pokeapi.co/api/v2/pokemon/10/'}, {'name': 'metapod', 'url': 'https://pokeapi.co/api/v2/pokemon/11/'}, {'name': 'butterfree', 'url': 'https://pokeapi.co/api/v2/pokemon/12/'}, {'name': 'weedle', 'url': 'https://pokeapi.co/api/v2/pokemon/13/'}, {'name': 'kakuna', 'url': 'https://pokeapi.co/api/v2/pokemon/14/'}, {'name': 'beedrill', 'url': 'https://pokeapi.co/api/v2/pokemon/15/'}, {'name': 'pidgey', 'url': 'https://pokeapi.co/api/v2/pokemon/16/'}, {'name': 'pidgeotto', 'url': 'https://pokeapi.co/api/v2/pokemon/17/'}, {'name': 'pidgeot', 'url': 'https://pokeapi.co/api/v2/pokemon/18/'}, {'name': 'rattata', 'url': 'https://pokeapi.co/api/v2/pokemon/19/'}, {'name': 'raticate', 'url': 'https://pokeapi.co/api/v2/pokemon/20/'}]}\n",
      "\n",
      " {'count': 1607, 'next': 'https://pokeapi.co/api/v2/item?offset=20&limit=20', 'previous': None, 'results': [{'name': 'master-ball', 'url': 'https://pokeapi.co/api/v2/item/1/'}, {'name': 'ultra-ball', 'url': 'https://pokeapi.co/api/v2/item/2/'}, {'name': 'great-ball', 'url': 'https://pokeapi.co/api/v2/item/3/'}, {'name': 'poke-ball', 'url': 'https://pokeapi.co/api/v2/item/4/'}, {'name': 'safari-ball', 'url': 'https://pokeapi.co/api/v2/item/5/'}, {'name': 'net-ball', 'url': 'https://pokeapi.co/api/v2/item/6/'}, {'name': 'dive-ball', 'url': 'https://pokeapi.co/api/v2/item/7/'}, {'name': 'nest-ball', 'url': 'https://pokeapi.co/api/v2/item/8/'}, {'name': 'repeat-ball', 'url': 'https://pokeapi.co/api/v2/item/9/'}, {'name': 'timer-ball', 'url': 'https://pokeapi.co/api/v2/item/10/'}, {'name': 'luxury-ball', 'url': 'https://pokeapi.co/api/v2/item/11/'}, {'name': 'premier-ball', 'url': 'https://pokeapi.co/api/v2/item/12/'}, {'name': 'dusk-ball', 'url': 'https://pokeapi.co/api/v2/item/13/'}, {'name': 'heal-ball', 'url': 'https://pokeapi.co/api/v2/item/14/'}, {'name': 'quick-ball', 'url': 'https://pokeapi.co/api/v2/item/15/'}, {'name': 'cherish-ball', 'url': 'https://pokeapi.co/api/v2/item/16/'}, {'name': 'potion', 'url': 'https://pokeapi.co/api/v2/item/17/'}, {'name': 'antidote', 'url': 'https://pokeapi.co/api/v2/item/18/'}, {'name': 'burn-heal', 'url': 'https://pokeapi.co/api/v2/item/19/'}, {'name': 'ice-heal', 'url': 'https://pokeapi.co/api/v2/item/20/'}]}\n",
      "\n",
      " {'count': 844, 'next': 'https://pokeapi.co/api/v2/move?offset=20&limit=20', 'previous': None, 'results': [{'name': 'pound', 'url': 'https://pokeapi.co/api/v2/move/1/'}, {'name': 'karate-chop', 'url': 'https://pokeapi.co/api/v2/move/2/'}, {'name': 'double-slap', 'url': 'https://pokeapi.co/api/v2/move/3/'}, {'name': 'comet-punch', 'url': 'https://pokeapi.co/api/v2/move/4/'}, {'name': 'mega-punch', 'url': 'https://pokeapi.co/api/v2/move/5/'}, {'name': 'pay-day', 'url': 'https://pokeapi.co/api/v2/move/6/'}, {'name': 'fire-punch', 'url': 'https://pokeapi.co/api/v2/move/7/'}, {'name': 'ice-punch', 'url': 'https://pokeapi.co/api/v2/move/8/'}, {'name': 'thunder-punch', 'url': 'https://pokeapi.co/api/v2/move/9/'}, {'name': 'scratch', 'url': 'https://pokeapi.co/api/v2/move/10/'}, {'name': 'vice-grip', 'url': 'https://pokeapi.co/api/v2/move/11/'}, {'name': 'guillotine', 'url': 'https://pokeapi.co/api/v2/move/12/'}, {'name': 'razor-wind', 'url': 'https://pokeapi.co/api/v2/move/13/'}, {'name': 'swords-dance', 'url': 'https://pokeapi.co/api/v2/move/14/'}, {'name': 'cut', 'url': 'https://pokeapi.co/api/v2/move/15/'}, {'name': 'gust', 'url': 'https://pokeapi.co/api/v2/move/16/'}, {'name': 'wing-attack', 'url': 'https://pokeapi.co/api/v2/move/17/'}, {'name': 'whirlwind', 'url': 'https://pokeapi.co/api/v2/move/18/'}, {'name': 'fly', 'url': 'https://pokeapi.co/api/v2/move/19/'}, {'name': 'bind', 'url': 'https://pokeapi.co/api/v2/move/20/'}]}\n",
      "\n",
      " {'count': 20, 'next': None, 'previous': None, 'results': [{'name': 'normal', 'url': 'https://pokeapi.co/api/v2/type/1/'}, {'name': 'fighting', 'url': 'https://pokeapi.co/api/v2/type/2/'}, {'name': 'flying', 'url': 'https://pokeapi.co/api/v2/type/3/'}, {'name': 'poison', 'url': 'https://pokeapi.co/api/v2/type/4/'}, {'name': 'ground', 'url': 'https://pokeapi.co/api/v2/type/5/'}, {'name': 'rock', 'url': 'https://pokeapi.co/api/v2/type/6/'}, {'name': 'bug', 'url': 'https://pokeapi.co/api/v2/type/7/'}, {'name': 'ghost', 'url': 'https://pokeapi.co/api/v2/type/8/'}, {'name': 'steel', 'url': 'https://pokeapi.co/api/v2/type/9/'}, {'name': 'fire', 'url': 'https://pokeapi.co/api/v2/type/10/'}, {'name': 'water', 'url': 'https://pokeapi.co/api/v2/type/11/'}, {'name': 'grass', 'url': 'https://pokeapi.co/api/v2/type/12/'}, {'name': 'electric', 'url': 'https://pokeapi.co/api/v2/type/13/'}, {'name': 'psychic', 'url': 'https://pokeapi.co/api/v2/type/14/'}, {'name': 'ice', 'url': 'https://pokeapi.co/api/v2/type/15/'}, {'name': 'dragon', 'url': 'https://pokeapi.co/api/v2/type/16/'}, {'name': 'dark', 'url': 'https://pokeapi.co/api/v2/type/17/'}, {'name': 'fairy', 'url': 'https://pokeapi.co/api/v2/type/18/'}, {'name': 'unknown', 'url': 'https://pokeapi.co/api/v2/type/10001/'}, {'name': 'shadow', 'url': 'https://pokeapi.co/api/v2/type/10002/'}]}\n"
     ]
    }
   ],
   "source": [
    "\n",
    "base_url = \"https://pokeapi.co/api/v2/\"\n",
    "\n",
    "classes = [\"pokemon\",\"item\",\"move\",\"type\"]\n",
    "\n",
    "temp_dict = {}\n",
    "\n",
    "for x in classes:\n",
    "\n",
    "    fetchedData = requests.get(base_url + x)\n",
    "\n",
    "    temp_dict = fetchedData.json()\n",
    "\n",
    "    print( \"\\n\",temp_dict)\n"
   ]
  }
 ],
 "metadata": {
  "interpreter": {
   "hash": "aab2652dd422b8952e87837d88345d2dc429e222c6ab5d96b6e49515aa907270"
  },
  "kernelspec": {
   "display_name": "Python 3.9.7 64-bit ('base': conda)",
   "language": "python",
   "name": "python3"
  },
  "language_info": {
   "codemirror_mode": {
    "name": "ipython",
    "version": 3
   },
   "file_extension": ".py",
   "mimetype": "text/x-python",
   "name": "python",
   "nbconvert_exporter": "python",
   "pygments_lexer": "ipython3",
   "version": "3.9.7"
  },
  "orig_nbformat": 4
 },
 "nbformat": 4,
 "nbformat_minor": 2
}
