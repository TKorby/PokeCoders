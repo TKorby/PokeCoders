{
 "cells": [
  {
   "cell_type": "code",
   "execution_count": null,
   "metadata": {},
   "outputs": [],
   "source": [
    "import requests\n",
    "import json\n",
    "\n",
    "\n",
    "@dataclass\n",
    "class Pokemon:\n",
    "\n",
    "@dataclass\n",
    "class Items:\n",
    "\n",
    "@dataclass\n",
    "class Moves:\n",
    "\n",
    "@dataclass\n",
    "class Types:\n",
    "\n",
    "@dataclass\n",
    "class :"
   ]
  }
 ],
 "metadata": {
  "interpreter": {
   "hash": "aab2652dd422b8952e87837d88345d2dc429e222c6ab5d96b6e49515aa907270"
  },
  "kernelspec": {
   "display_name": "Python 3.9.7 64-bit ('base': conda)",
   "language": "python",
   "name": "python3"
  },
  "language_info": {
   "name": "python",
   "version": "3.9.7"
  },
  "orig_nbformat": 4
 },
 "nbformat": 4,
 "nbformat_minor": 2
}
